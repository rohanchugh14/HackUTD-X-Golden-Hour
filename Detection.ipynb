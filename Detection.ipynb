{
 "cells": [
  {
   "cell_type": "code",
   "execution_count": 11,
   "metadata": {},
   "outputs": [],
   "source": [
    "import pandas as pd\n",
    "import numpy as np\n",
    "import matplotlib.pyplot as plt\n",
    "import seaborn as sns\n",
    "import os\n",
    "import sys\n",
    "import time\n",
    "import datetime\n",
    "import random\n",
    "\n",
    "from sklearn.model_selection import train_test_split\n",
    "from sklearn.preprocessing import LabelEncoder\n",
    "from sklearn.preprocessing import OneHotEncoder\n",
    "from sklearn.preprocessing import StandardScaler\n",
    "from sklearn.metrics import confusion_matrix\n",
    "from sklearn.metrics import accuracy_score\n",
    "from sklearn.metrics import classification_report\n"
   ]
  },
  {
   "cell_type": "code",
   "execution_count": 12,
   "metadata": {},
   "outputs": [],
   "source": [
    "import os\n",
    "import pandas as pd\n",
    "\n",
    "# set the directory path where the csv files are located\n",
    "dir_path = './'\n",
    "\n",
    "# get a list of all csv files in the directory\n",
    "csv_files = [f for f in os.listdir(dir_path) if f.endswith('.csv')]\n",
    "\n",
    "# create an empty dictionary to store the dataframes\n",
    "dfs = {}\n",
    "\n",
    "# loop through each csv file and read it into a dataframe\n",
    "for file in csv_files:\n",
    "    # get the name of the file without the extension\n",
    "    name = file.split('.')[0]\n",
    "    # read the csv file into a dataframe\n",
    "    df = pd.read_csv(os.path.join(dir_path, file))\n",
    "    # add the dataframe to the dictionary with the file name as the key\n",
    "    dfs[name] = df"
   ]
  },
  {
   "cell_type": "code",
   "execution_count": 13,
   "metadata": {},
   "outputs": [
    {
     "name": "stdout",
     "output_type": "stream",
     "text": [
      "Shape of the dataset:  (86401, 6)\n"
     ]
    }
   ],
   "source": [
    "# Print the shape of the dataset\n",
    "weather_data = dfs['weather_data']\n",
    "sensor_readings = dfs['sensor_readings']\n",
    "leak_locations_and_rate = dfs['leak_locations_and_rate']\n",
    "curr_df = weather_data\n",
    "print(\"Shape of the dataset: \", curr_df.shape)"
   ]
  },
  {
   "cell_type": "code",
   "execution_count": 14,
   "metadata": {},
   "outputs": [],
   "source": [
    "time_classification_map = {}\n",
    "for index, row in leak_locations_and_rate.iterrows():\n",
    "    for i in range(row['tStart'], row['tEnd'] + 1):\n",
    "        time_classification_map[i] = True\n",
    "\n",
    "def get_leak_location_and_rate(time):\n",
    "    return time_classification_map.get(time, False)"
   ]
  },
  {
   "cell_type": "code",
   "execution_count": 15,
   "metadata": {},
   "outputs": [
    {
     "name": "stdout",
     "output_type": "stream",
     "text": [
      "0\n",
      "10000\n",
      "20000\n",
      "30000\n",
      "40000\n",
      "50000\n",
      "60000\n",
      "70000\n",
      "80000\n"
     ]
    }
   ],
   "source": [
    "# create a numpy array with the same shape as detection_input\n",
    "data = np.empty((24*86401, 2), dtype=object)\n",
    "\n",
    "# loop through each row in sensor_readings dataframe\n",
    "outer_index = 0\n",
    "for index, row in sensor_readings.iterrows():\n",
    "    # loop through each sensor in the row\n",
    "    for col in sensor_readings.columns:\n",
    "        if col not in ['Unnamed: 0', 'time']:\n",
    "            value = row[col].astype(float)\n",
    "            leak_probability = 0 if get_leak_location_and_rate(row['time']) else 1\n",
    "            data[outer_index] = [value, leak_probability]\n",
    "            outer_index += 1\n",
    "            \n",
    "    if index % 10000 == 0:\n",
    "        print(index)"
   ]
  },
  {
   "cell_type": "code",
   "execution_count": 16,
   "metadata": {},
   "outputs": [
    {
     "name": "stdout",
     "output_type": "stream",
     "text": [
      "    value leak_probability\n",
      "0  1030.0                1\n",
      "1  1049.0                1\n",
      "2  1166.0                1\n",
      "3   964.0                1\n",
      "4  1023.0                1\n"
     ]
    }
   ],
   "source": [
    "# create the dataframe from the numpy array\n",
    "detection_input = pd.DataFrame(data, columns=['value', 'leak_probability'])\n",
    "\n",
    "# print the new dataframe\n",
    "print(detection_input.head())"
   ]
  },
  {
   "cell_type": "code",
   "execution_count": 17,
   "metadata": {},
   "outputs": [],
   "source": [
    "# remove rows with all values none\n",
    "detection_input = detection_input.dropna()"
   ]
  },
  {
   "cell_type": "code",
   "execution_count": 18,
   "metadata": {},
   "outputs": [],
   "source": [
    "# If necessary, convert 'leak_probability' to numerical or categorical format\n",
    "detection_input['leak_probability'] = detection_input['leak_probability'].astype('int')"
   ]
  },
  {
   "cell_type": "code",
   "execution_count": 19,
   "metadata": {},
   "outputs": [
    {
     "name": "stdout",
     "output_type": "stream",
     "text": [
      "Accuracy:  0.8050844422897344\n",
      "              precision    recall  f1-score   support\n",
      "\n",
      "           0       0.86      0.73      0.79    181514\n",
      "           1       0.77      0.88      0.82    181515\n",
      "\n",
      "    accuracy                           0.81    363029\n",
      "   macro avg       0.81      0.81      0.80    363029\n",
      "weighted avg       0.81      0.81      0.80    363029\n",
      "\n"
     ]
    },
    {
     "data": {
      "image/png": "[encoded data removed]",
      "text/plain": [
       "<Figure size 432x288 with 2 Axes>"
      ]
     },
     "metadata": {
      "needs_background": "light"
     },
     "output_type": "display_data"
    }
   ],
   "source": [
    "# train a random forest classifier on the data to see how well it can predict leak probability\n",
    "from sklearn.ensemble import RandomForestClassifier\n",
    "from sklearn.model_selection import train_test_split\n",
    "from sklearn.metrics import accuracy_score\n",
    "from sklearn.model_selection import KFold, StratifiedShuffleSplit\n",
    "\n",
    "# define the number of folds\n",
    "k = 1\n",
    "\n",
    "# split x and y\n",
    "X = detection_input.drop(columns=['leak_probability'])\n",
    "y = detection_input['leak_probability']\n",
    "\n",
    "# implement SMOTE to balance the data\n",
    "from imblearn.over_sampling import SMOTE\n",
    "sm = SMOTE(random_state=42)\n",
    "X, y = sm.fit_resample(X, y)\n",
    "\n",
    "# create a KFold object\n",
    "kf = StratifiedShuffleSplit(n_splits=k, random_state=None)\n",
    "\n",
    "# remeber best model\n",
    "best_model = None\n",
    "best_model_accuracy = 0\n",
    "\n",
    "# split the data into k folds\n",
    "for train_index, test_index in kf.split(X, y):\n",
    "    # get the training and testing data for this fold\n",
    "    X_train, X_test = X.iloc[train_index], X.iloc[test_index]\n",
    "    y_train, y_test = y.iloc[train_index], y.iloc[test_index]\n",
    "\n",
    "    # train the decision tree classifier on the training data\n",
    "    clf = RandomForestClassifier(n_estimators=100, max_depth=2, random_state=0)\n",
    "\n",
    "    # scaling the data\n",
    "    scaler = StandardScaler()\n",
    "    X_train = scaler.fit_transform(X_train)\n",
    "    X_test = scaler.transform(X_test)\n",
    "\n",
    "    # fit the model\n",
    "    clf.fit(X_train, y_train)\n",
    "\n",
    "    # make predictions on the testing data\n",
    "    y_pred = clf.predict(X_test)\n",
    "\n",
    "    # calculate the accuracy of the model\n",
    "    accuracy = accuracy_score(y_test, y_pred)\n",
    "    print('Accuracy: ', accuracy)\n",
    "\n",
    "    if accuracy > best_model_accuracy:\n",
    "        best_model = clf\n",
    "        best_model_accuracy = accuracy\n",
    "\n",
    "    # print the classification report\n",
    "    print(classification_report(y_test, y_pred))\n",
    "\n",
    "    # plot confusion matrix\n",
    "    cm = confusion_matrix(y_test, y_pred)\n",
    "    sns.heatmap(cm, annot=True)\n",
    "    plt.show()"
   ]
  },
  {
   "cell_type": "code",
   "execution_count": 20,
   "metadata": {},
   "outputs": [],
   "source": [
    "# pickle the model\n",
    "import pickle\n",
    "filename = 'random_forest_detection_model.sav'\n",
    "pickle.dump(best_model, open(filename, 'wb'))"
   ]
  },
  {
   "cell_type": "code",
   "execution_count": 41,
   "metadata": {},
   "outputs": [],
   "source": [
    "import sys\n",
    "import os\n",
    "import pickle\n",
    "import pandas as pd\n",
    "import numpy as np\n",
    "import sklearn\n",
    "\n",
    "def open_csv(sensor_file_path):\n",
    "    sensor_df = pd.read_csv(sensor_file_path)\n",
    "    return sensor_df\n",
    "\n",
    "def process_sensor_data(sensor_df):\n",
    "    # create a numpy array with the same shape as detection_input\n",
    "    data = np.empty((24*sensor_df.shape[0], 3), dtype=object)\n",
    "\n",
    "    # loop through each row in sensor_readings dataframe\n",
    "    outer_index = 0\n",
    "    for index, row in sensor_df.iterrows():\n",
    "        # loop through each sensor in the row\n",
    "        for col in sensor_df.columns:\n",
    "            if col not in ['Unnamed: 0', 'time']:\n",
    "                value = row[col].astype(float)\n",
    "                leak_probability = 0\n",
    "                data[outer_index] = [row['time'], value, leak_probability]\n",
    "                outer_index += 1\n",
    "                \n",
    "        if index % 10000 == 0:\n",
    "            print(index)\n",
    "\n",
    "    # create the dataframe from the numpy array\n",
    "    detection_input = pd.DataFrame(data, columns=['time', 'value', 'leak_probability'])\n",
    "\n",
    "    # remove rows with all values none\n",
    "    detection_input = detection_input.dropna()\n",
    "\n",
    "    return detection_input\n",
    "\n",
    "def load_model(model_name):\n",
    "    # load the model from disk\n",
    "    loaded_model = pickle.load(open(model_name, 'rb'))\n",
    "    return loaded_model\n",
    "\n",
    "def predict_leak(detection_input, loaded_model):\n",
    "#drop time column\n",
    "    # make predictions on the input data\n",
    "    detection_input = detection_input.drop(columns=['leak_probability'])\n",
    "    time = detection_input['time']\n",
    "    detection_input = detection_input.drop(columns=['time'])\n",
    "\n",
    "    scaler = StandardScaler()\n",
    "    detection_input = scaler.fit_transform(detection_input)\n",
    "    \n",
    "    leak_probability = loaded_model.predict(detection_input)\n",
    "    leaks = set()\n",
    "    for time, leak in zip(time, leak_probability):\n",
    "        if leak > 0:\n",
    "            leaks.add(time)\n",
    "\n",
    "    return leaks\n"
   ]
  },
  {
   "cell_type": "code",
   "execution_count": 45,
   "metadata": {},
   "outputs": [
    {
     "name": "stdout",
     "output_type": "stream",
     "text": [
      "made it into here\n",
      "0\n",
      "10000\n",
      "20000\n",
      "30000\n",
      "40000\n",
      "50000\n",
      "60000\n",
      "70000\n",
      "80000\n",
      "Continuous intervals: [(1681776002.0, 1681776476.0), (1681776478.0, 1681780513.0), (1681780516.0, 1681780668.0), (1681780709.0, 1681780714.0), (1681780758.0, 1681780761.0), (1681780764.0, 1681790700.0), (1681790704.0, 1681820775.0), (1681820778.0, 1681820802.0), (1681820804.0, 1681820810.0), (1681820814.0, 1681820844.0), (1681820847.0, 1681820891.0), (1681820893.0, 1681828622.0), (1681828624.0, 1681829594.0), (1681829596.0, 1681831823.0), (1681831825.0, 1681841919.0), (1681841921.0, 1681841921.0), (1681841924.0, 1681841929.0), (1681841931.0, 1681841934.0), (1681841937.0, 1681841940.0), (1681841942.0, 1681841942.0), (1681841947.0, 1681841951.0), (1681841956.0, 1681841963.0), (1681841966.0, 1681841970.0), (1681841975.0, 1681841975.0), (1681841977.0, 1681841978.0), (1681841982.0, 1681841982.0), (1681841984.0, 1681841986.0), (1681841989.0, 1681841990.0), (1681841992.0, 1681841992.0), (1681841996.0, 1681842000.0), (1681842004.0, 1681842006.0), (1681842010.0, 1681842018.0), (1681842020.0, 1681842022.0), (1681842025.0, 1681842028.0), (1681842030.0, 1681842031.0), (1681842033.0, 1681842044.0), (1681842140.0, 1681842144.0), (1681842147.0, 1681842150.0), (1681842153.0, 1681842153.0), (1681842158.0, 1681842158.0), (1681842161.0, 1681842169.0), (1681842172.0, 1681842176.0), (1681842181.0, 1681842181.0), (1681842183.0, 1681842183.0), (1681842188.0, 1681842189.0), (1681842341.0, 1681842342.0), (1681842344.0, 1681842345.0), (1681842356.0, 1681842356.0), (1681842358.0, 1681842360.0), (1681842366.0, 1681842366.0), (1681842371.0, 1681842371.0), (1681842373.0, 1681842373.0), (1681842376.0, 1681842377.0), (1681842379.0, 1681842380.0), (1681842384.0, 1681842384.0), (1681842386.0, 1681842386.0), (1681842388.0, 1681842388.0), (1681842391.0, 1681842400.0), (1681842404.0, 1681842406.0), (1681842408.0, 1681842411.0), (1681842415.0, 1681842416.0), (1681842421.0, 1681842422.0), (1681842586.0, 1681842586.0), (1681842592.0, 1681842594.0), (1681842599.0, 1681842601.0), (1681842603.0, 1681842603.0), (1681842605.0, 1681842616.0), (1681842717.0, 1681842719.0), (1681842723.0, 1681842725.0), (1681842727.0, 1681842733.0), (1681842735.0, 1681842735.0), (1681842738.0, 1681842739.0), (1681842741.0, 1681842742.0), (1681842745.0, 1681842745.0), (1681842749.0, 1681842770.0), (1681842775.0, 1681842775.0), (1681842780.0, 1681842780.0), (1681842782.0, 1681842783.0), (1681842785.0, 1681842785.0), (1681842789.0, 1681842789.0), (1681842791.0, 1681842791.0), (1681842793.0, 1681842793.0), (1681842795.0, 1681842798.0), (1681842800.0, 1681842801.0), (1681842804.0, 1681842804.0), (1681842806.0, 1681842813.0), (1681842817.0, 1681842817.0), (1681842819.0, 1681842827.0), (1681842830.0, 1681842830.0), (1681842861.0, 1681842862.0), (1681842867.0, 1681842870.0), (1681842872.0, 1681842872.0), (1681842874.0, 1681842874.0), (1681842876.0, 1681842879.0), (1681842881.0, 1681842887.0), (1681842889.0, 1681842892.0), (1681842895.0, 1681842895.0), (1681842897.0, 1681842898.0), (1681842902.0, 1681842904.0), (1681842906.0, 1681842906.0), (1681842910.0, 1681842913.0), (1681842916.0, 1681842916.0), (1681842918.0, 1681842921.0), (1681842923.0, 1681842925.0), (1681842927.0, 1681842931.0), (1681842933.0, 1681842933.0), (1681842936.0, 1681842937.0), (1681842941.0, 1681842943.0), (1681842948.0, 1681842949.0), (1681842952.0, 1681842952.0), (1681842955.0, 1681842955.0), (1681842961.0, 1681842963.0), (1681842965.0, 1681842967.0), (1681843040.0, 1681843040.0), (1681843050.0, 1681843050.0), (1681843053.0, 1681843055.0), (1681843112.0, 1681843112.0), (1681843123.0, 1681843123.0), (1681843128.0, 1681843128.0), (1681843130.0, 1681843130.0), (1681843133.0, 1681843133.0), (1681843135.0, 1681843137.0), (1681843141.0, 1681843141.0), (1681843144.0, 1681843145.0), (1681843197.0, 1681843197.0), (1681843207.0, 1681843207.0), (1681843210.0, 1681843210.0), (1681843212.0, 1681843215.0), (1681843217.0, 1681843217.0), (1681843222.0, 1681843222.0), (1681843224.0, 1681843228.0), (1681843233.0, 1681843236.0), (1681843238.0, 1681843279.0), (1681843284.0, 1681843288.0), (1681843291.0, 1681843291.0), (1681843293.0, 1681843294.0), (1681843296.0, 1681843297.0), (1681843300.0, 1681843300.0), (1681843303.0, 1681843306.0), (1681843308.0, 1681843308.0), (1681843310.0, 1681843313.0), (1681843315.0, 1681843317.0), (1681843319.0, 1681843319.0), (1681843325.0, 1681843325.0), (1681843331.0, 1681843334.0), (1681843338.0, 1681843338.0), (1681843342.0, 1681843342.0), (1681843344.0, 1681843344.0), (1681843346.0, 1681843352.0), (1681843362.0, 1681843366.0), (1681843369.0, 1681843372.0), (1681843376.0, 1681843376.0), (1681843378.0, 1681843379.0), (1681843481.0, 1681843482.0), (1681843496.0, 1681843497.0), (1681843499.0, 1681843499.0), (1681843501.0, 1681843501.0), (1681843504.0, 1681843509.0), (1681843511.0, 1681843512.0), (1681843585.0, 1681843585.0), (1681843588.0, 1681843590.0), (1681843594.0, 1681843598.0), (1681843685.0, 1681843685.0), (1681843689.0, 1681843694.0), (1681843697.0, 1681843702.0), (1681843704.0, 1681843705.0), (1681843707.0, 1681843709.0), (1681843712.0, 1681843715.0), (1681843720.0, 1681843720.0), (1681843722.0, 1681843722.0), (1681843727.0, 1681843728.0), (1681843734.0, 1681843736.0), (1681843741.0, 1681843743.0), (1681843749.0, 1681843752.0), (1681843756.0, 1681843761.0), (1681843764.0, 1681843772.0), (1681843774.0, 1681843774.0), (1681843777.0, 1681843778.0), (1681843780.0, 1681843785.0), (1681843788.0, 1681843791.0), (1681843794.0, 1681843801.0), (1681843803.0, 1681843803.0), (1681843808.0, 1681843808.0), (1681843811.0, 1681843811.0), (1681843817.0, 1681843819.0), (1681843825.0, 1681843825.0), (1681843827.0, 1681843828.0), (1681843831.0, 1681843831.0), (1681843833.0, 1681843833.0), (1681843835.0, 1681843835.0), (1681843927.0, 1681843927.0), (1681843929.0, 1681843930.0), (1681843934.0, 1681843944.0), (1681843946.0, 1681843950.0), (1681843952.0, 1681843960.0), (1681843962.0, 1681843962.0), (1681843964.0, 1681843972.0), (1681843974.0, 1681843980.0), (1681843982.0, 1681843986.0), (1681843988.0, 1681843990.0), (1681843995.0, 1681843995.0), (1681843997.0, 1681843998.0), (1681844001.0, 1681844002.0), (1681844004.0, 1681844004.0), (1681844007.0, 1681844008.0), (1681844011.0, 1681844011.0), (1681844013.0, 1681844013.0), (1681844349.0, 1681844350.0), (1681844352.0, 1681844353.0), (1681844355.0, 1681844359.0), (1681844362.0, 1681844367.0), (1681844376.0, 1681844377.0), (1681844379.0, 1681844380.0), (1681844382.0, 1681844386.0), (1681844388.0, 1681844391.0), (1681844393.0, 1681844393.0), (1681844396.0, 1681844397.0), (1681844404.0, 1681844404.0), (1681844407.0, 1681844410.0), (1681844412.0, 1681844418.0), (1681844422.0, 1681844423.0), (1681844425.0, 1681844426.0), (1681844428.0, 1681844429.0), (1681844431.0, 1681844434.0), (1681844438.0, 1681844439.0), (1681844441.0, 1681844441.0), (1681844445.0, 1681844445.0), (1681844556.0, 1681844558.0), (1681844564.0, 1681844565.0), (1681844567.0, 1681844567.0), (1681844569.0, 1681844574.0), (1681844576.0, 1681844583.0), (1681844585.0, 1681844585.0), (1681844587.0, 1681844592.0), (1681844594.0, 1681844595.0), (1681844597.0, 1681844607.0), (1681844609.0, 1681844610.0), (1681844612.0, 1681844612.0), (1681844634.0, 1681844636.0), (1681844638.0, 1681845752.0), (1681845754.0, 1681845754.0), (1681845757.0, 1681845758.0), (1681845760.0, 1681845762.0), (1681845766.0, 1681845768.0), (1681845773.0, 1681845776.0), (1681845778.0, 1681845779.0), (1681845781.0, 1681845783.0), (1681845785.0, 1681845793.0), (1681845795.0, 1681845795.0), (1681845797.0, 1681845800.0), (1681845821.0, 1681845821.0), (1681845833.0, 1681845835.0), (1681845840.0, 1681845840.0), (1681845858.0, 1681845858.0), (1681845861.0, 1681845863.0), (1681845867.0, 1681845867.0), (1681845870.0, 1681845870.0), (1681845873.0, 1681845878.0), (1681845882.0, 1681845886.0), (1681845889.0, 1681845893.0), (1681845897.0, 1681845899.0), (1681845901.0, 1681845902.0), (1681845904.0, 1681845904.0), (1681845906.0, 1681845910.0), (1681845912.0, 1681845913.0), (1681845915.0, 1681845924.0), (1681845926.0, 1681845926.0), (1681845928.0, 1681845932.0), (1681846001.0, 1681856390.0), (1681856392.0, 1681856410.0), (1681856415.0, 1681856430.0), (1681856435.0, 1681856439.0), (1681856442.0, 1681856447.0), (1681856449.0, 1681856450.0), (1681856453.0, 1681856456.0), (1681856458.0, 1681856458.0), (1681856467.0, 1681856467.0), (1681856469.0, 1681856469.0), (1681856474.0, 1681856476.0), (1681856480.0, 1681856480.0), (1681856483.0, 1681856483.0), (1681856485.0, 1681856486.0), (1681856488.0, 1681856489.0), (1681856569.0, 1681856570.0), (1681856577.0, 1681856577.0), (1681856588.0, 1681856588.0), (1681856594.0, 1681856594.0), (1681856598.0, 1681856600.0), (1681856602.0, 1681856602.0), (1681856604.0, 1681856604.0), (1681856606.0, 1681856608.0), (1681856610.0, 1681856610.0), (1681856614.0, 1681856614.0), (1681856618.0, 1681856621.0), (1681856623.0, 1681856626.0), (1681856638.0, 1681856638.0), (1681856645.0, 1681856645.0), (1681856650.0, 1681856652.0), (1681856654.0, 1681856654.0), (1681856660.0, 1681856664.0), (1681856666.0, 1681856679.0), (1681856681.0, 1681856681.0), (1681856683.0, 1681856685.0), (1681856687.0, 1681856687.0), (1681856689.0, 1681856690.0), (1681856692.0, 1681856695.0), (1681856697.0, 1681856698.0), (1681856701.0, 1681856705.0), (1681856709.0, 1681856710.0), (1681856720.0, 1681856720.0), (1681856722.0, 1681856722.0), (1681856725.0, 1681856726.0), (1681856730.0, 1681856732.0), (1681856735.0, 1681856737.0), (1681856742.0, 1681856742.0), (1681856753.0, 1681856753.0), (1681856756.0, 1681856756.0), (1681856758.0, 1681856759.0), (1681856761.0, 1681856762.0), (1681856764.0, 1681856764.0), (1681856771.0, 1681856771.0), (1681856774.0, 1681856777.0), (1681856779.0, 1681856786.0), (1681856788.0, 1681856788.0), (1681856889.0, 1681856889.0), (1681856891.0, 1681856893.0), (1681856898.0, 1681856898.0), (1681856900.0, 1681856900.0), (1681856903.0, 1681856910.0), (1681856913.0, 1681856917.0), (1681856919.0, 1681856923.0), (1681856925.0, 1681856925.0), (1681856927.0, 1681856931.0), (1681856933.0, 1681856935.0), (1681856937.0, 1681856937.0), (1681856939.0, 1681856940.0), (1681856944.0, 1681856944.0), (1681856946.0, 1681856947.0), (1681856949.0, 1681856950.0), (1681856953.0, 1681856955.0), (1681856957.0, 1681856958.0), (1681856960.0, 1681856962.0), (1681856967.0, 1681856969.0), (1681856972.0, 1681856973.0), (1681856983.0, 1681856984.0), (1681856990.0, 1681856990.0), (1681856995.0, 1681856996.0), (1681856998.0, 1681856999.0), (1681857001.0, 1681857001.0), (1681857006.0, 1681857008.0), (1681857011.0, 1681857014.0), (1681857018.0, 1681857020.0), (1681857023.0, 1681857023.0), (1681857030.0, 1681857031.0), (1681857037.0, 1681857040.0), (1681857042.0, 1681857043.0), (1681857045.0, 1681857047.0), (1681857052.0, 1681857055.0), (1681857059.0, 1681857064.0), (1681857068.0, 1681857071.0), (1681857076.0, 1681857076.0), (1681857078.0, 1681857079.0), (1681857083.0, 1681857084.0), (1681857087.0, 1681857087.0), (1681857090.0, 1681857095.0), (1681857098.0, 1681857098.0), (1681857100.0, 1681857100.0), (1681857102.0, 1681857108.0), (1681857111.0, 1681857114.0), (1681857118.0, 1681857118.0), (1681857120.0, 1681857120.0), (1681857124.0, 1681857189.0), (1681857191.0, 1681857191.0), (1681857193.0, 1681857200.0), (1681857202.0, 1681857202.0), (1681857204.0, 1681857254.0), (1681857256.0, 1681857258.0), (1681857263.0, 1681857264.0), (1681857268.0, 1681857268.0), (1681857270.0, 1681857270.0), (1681857273.0, 1681857277.0), (1681857281.0, 1681857282.0), (1681857284.0, 1681857284.0), (1681857286.0, 1681857287.0), (1681857290.0, 1681857290.0), (1681857292.0, 1681857292.0), (1681857294.0, 1681857296.0), (1681857393.0, 1681857394.0), (1681857397.0, 1681857397.0), (1681857399.0, 1681857402.0), (1681857404.0, 1681857404.0), (1681857407.0, 1681857409.0), (1681857411.0, 1681857413.0), (1681857415.0, 1681857415.0), (1681857418.0, 1681857419.0), (1681857422.0, 1681857425.0), (1681857429.0, 1681857433.0), (1681857437.0, 1681857439.0), (1681857442.0, 1681857445.0), (1681857448.0, 1681857453.0), (1681857455.0, 1681857455.0), (1681857457.0, 1681857458.0), (1681857463.0, 1681857464.0), (1681857467.0, 1681857469.0), (1681857471.0, 1681857472.0), (1681857474.0, 1681857490.0), (1681857493.0, 1681857493.0), (1681857495.0, 1681857495.0), (1681857497.0, 1681857498.0), (1681857500.0, 1681857500.0), (1681857502.0, 1681857506.0), (1681857598.0, 1681857598.0), (1681857608.0, 1681857614.0), (1681857622.0, 1681859198.0), (1681859200.0, 1681859204.0), (1681859206.0, 1681859858.0)]\n"
     ]
    }
   ],
   "source": [
    "print(\"made it into here\")\n",
    "\n",
    "# get input file names\n",
    "sensor_data = 'sensor_readings.csv'\n",
    "model_name = './random_forest_detection_model.sav'\n",
    "\n",
    "# process inputs to fit models\n",
    "sensor_df = open_csv(sensor_data)\n",
    "detection_input = process_sensor_data(sensor_df)\n",
    "\n",
    "# load model\n",
    "loaded_model = load_model(model_name)\n",
    "\n",
    "# make predictions\n",
    "list_of_leaks = predict_leak(detection_input, loaded_model)\n",
    "\n",
    "# print results\n",
    "# print(f'List of leaks: {list_of_leaks}')\n",
    "\n",
    "#calculate continuous intervals srtart times and end times of leaks\n",
    "continuous_intervals = []\n",
    "start_time = None\n",
    "end_time = None\n",
    "for time in list_of_leaks:\n",
    "    if start_time == None:\n",
    "        start_time = time\n",
    "        end_time = time\n",
    "    elif time == end_time + 1:\n",
    "        end_time = time\n",
    "    else:\n",
    "        continuous_intervals.append((start_time, end_time))\n",
    "        start_time = time\n",
    "        end_time = time\n",
    "\n",
    "# print results\n",
    "print(f'Continuous intervals: {continuous_intervals}')"
   ]
  },
  {
   "cell_type": "code",
   "execution_count": 34,
   "metadata": {},
   "outputs": [
    {
     "data": {
      "text/plain": [
       "array([[1030.0],\n",
       "       [1049.0],\n",
       "       [1166.0],\n",
       "       ...,\n",
       "       [1017.0],\n",
       "       [846.0],\n",
       "       [971.0]], dtype=object)"
      ]
     },
     "execution_count": 34,
     "metadata": {},
     "output_type": "execute_result"
    }
   ],
   "source": [
    "detection_input.drop(columns=['leak_probability']).to_numpy()"
   ]
  },
  {
   "cell_type": "code",
   "execution_count": 29,
   "metadata": {},
   "outputs": [
    {
     "data": {
      "text/plain": [
       "array([[-0.00624765],\n",
       "       [-0.01092946],\n",
       "       [-0.03046392],\n",
       "       ...,\n",
       "       [-0.02013165],\n",
       "       [-0.03433852],\n",
       "       [-0.01399686]])"
      ]
     },
     "execution_count": 29,
     "metadata": {},
     "output_type": "execute_result"
    }
   ],
   "source": [
    "X_test"
   ]
  }
 ],
 "metadata": {
  "kernelspec": {
   "display_name": "base",
   "language": "python",
   "name": "python3"
  },
  "language_info": {
   "codemirror_mode": {
    "name": "ipython",
    "version": 3
   },
   "file_extension": ".py",
   "mimetype": "text/x-python",
   "name": "python",
   "nbconvert_exporter": "python",
   "pygments_lexer": "ipython3",
   "version": "3.9.12"
  }
 },
 "nbformat": 4,
 "nbformat_minor": 2
}

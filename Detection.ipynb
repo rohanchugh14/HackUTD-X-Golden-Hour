{
 "cells": [
  {
   "cell_type": "code",
   "execution_count": 1,
   "metadata": {},
   "outputs": [],
   "source": [
    "import pandas as pd\n",
    "import numpy as np\n",
    "import matplotlib.pyplot as plt\n",
    "import seaborn as sns\n",
    "import os\n",
    "import sys\n",
    "import time\n",
    "import datetime\n",
    "import random\n",
    "\n",
    "from sklearn.model_selection import train_test_split\n",
    "from sklearn.preprocessing import LabelEncoder\n",
    "from sklearn.preprocessing import OneHotEncoder\n",
    "from sklearn.preprocessing import StandardScaler\n",
    "from sklearn.metrics import confusion_matrix\n",
    "from sklearn.metrics import accuracy_score\n",
    "from sklearn.metrics import classification_report\n"
   ]
  },
  {
   "cell_type": "code",
   "execution_count": 2,
   "metadata": {},
   "outputs": [],
   "source": [
    "import os\n",
    "import pandas as pd\n",
    "\n",
    "# set the directory path where the csv files are located\n",
    "dir_path = './'\n",
    "\n",
    "# get a list of all csv files in the directory\n",
    "csv_files = [f for f in os.listdir(dir_path) if f.endswith('.csv')]\n",
    "\n",
    "# create an empty dictionary to store the dataframes\n",
    "dfs = {}\n",
    "\n",
    "# loop through each csv file and read it into a dataframe\n",
    "for file in csv_files:\n",
    "    # get the name of the file without the extension\n",
    "    name = file.split('.')[0]\n",
    "    # read the csv file into a dataframe\n",
    "    df = pd.read_csv(os.path.join(dir_path, file))\n",
    "    # add the dataframe to the dictionary with the file name as the key\n",
    "    dfs[name] = df"
   ]
  },
  {
   "cell_type": "code",
   "execution_count": 3,
   "metadata": {},
   "outputs": [
    {
     "name": "stdout",
     "output_type": "stream",
     "text": [
      "Shape of the dataset:  (86401, 6)\n"
     ]
    }
   ],
   "source": [
    "# Print the shape of the dataset\n",
    "weather_data = dfs['weather_data']\n",
    "sensor_readings = dfs['sensor_readings']\n",
    "leak_locations_and_rate = dfs['leak_locations_and_rate']\n",
    "curr_df = weather_data\n",
    "print(\"Shape of the dataset: \", curr_df.shape)"
   ]
  },
  {
   "cell_type": "code",
   "execution_count": 4,
   "metadata": {},
   "outputs": [],
   "source": [
    "time_classification_map = {}\n",
    "for index, row in leak_locations_and_rate.iterrows():\n",
    "    for i in range(row['tStart'], row['tEnd'] + 1):\n",
    "        time_classification_map[i] = True\n",
    "\n",
    "def get_leak_location_and_rate(time):\n",
    "    return time_classification_map.get(time, False)"
   ]
  },
  {
   "cell_type": "code",
   "execution_count": 5,
   "metadata": {},
   "outputs": [
    {
     "name": "stdout",
     "output_type": "stream",
     "text": [
      "0\n",
      "10000\n",
      "20000\n",
      "30000\n",
      "40000\n",
      "50000\n",
      "60000\n",
      "70000\n",
      "80000\n"
     ]
    }
   ],
   "source": [
    "# create a numpy array with the same shape as detection_input\n",
    "data = np.empty((24*86401, 2), dtype=object)\n",
    "\n",
    "# loop through each row in sensor_readings dataframe\n",
    "outer_index = 0\n",
    "for index, row in sensor_readings.iterrows():\n",
    "    # loop through each sensor in the row\n",
    "    for col in sensor_readings.columns:\n",
    "        if col not in ['Unnamed: 0', 'time']:\n",
    "            value = row[col]\n",
    "            leak_probability = 0 if get_leak_location_and_rate(row['time']) else 1\n",
    "            data[outer_index] = [value, leak_probability]\n",
    "            outer_index += 1\n",
    "            \n",
    "    if index % 10000 == 0:\n",
    "        print(index)"
   ]
  },
  {
   "cell_type": "code",
   "execution_count": 6,
   "metadata": {},
   "outputs": [
    {
     "name": "stdout",
     "output_type": "stream",
     "text": [
      "    value leak_probability\n",
      "0  1030.0                1\n",
      "1  1049.0                1\n",
      "2  1166.0                1\n",
      "3   964.0                1\n",
      "4  1023.0                1\n"
     ]
    }
   ],
   "source": [
    "# create the dataframe from the numpy array\n",
    "detection_input = pd.DataFrame(data, columns=['value', 'leak_probability'])\n",
    "\n",
    "# print the new dataframe\n",
    "print(detection_input.head())"
   ]
  },
  {
   "cell_type": "code",
   "execution_count": 7,
   "metadata": {},
   "outputs": [],
   "source": [
    "# remove rows with all values none\n",
    "detection_input = detection_input.dropna()"
   ]
  },
  {
   "cell_type": "code",
   "execution_count": 9,
   "metadata": {},
   "outputs": [],
   "source": [
    "# If necessary, convert 'leak_probability' to numerical or categorical format\n",
    "detection_input['leak_probability'] = detection_input['leak_probability'].astype('int')"
   ]
  },
  {
   "cell_type": "code",
   "execution_count": 12,
   "metadata": {},
   "outputs": [
    {
     "name": "stdout",
     "output_type": "stream",
     "text": [
      "Accuracy:  0.8045693319266505\n",
      "              precision    recall  f1-score   support\n",
      "\n",
      "           0       0.86      0.73      0.79    181514\n",
      "           1       0.77      0.88      0.82    181515\n",
      "\n",
      "    accuracy                           0.80    363029\n",
      "   macro avg       0.81      0.80      0.80    363029\n",
      "weighted avg       0.81      0.80      0.80    363029\n",
      "\n"
     ]
    },
    {
     "data": {
      "image/png": "[encoded data removed]",
      "text/plain": [
       "<Figure size 432x288 with 2 Axes>"
      ]
     },
     "metadata": {
      "needs_background": "light"
     },
     "output_type": "display_data"
    }
   ],
   "source": [
    "# train a random forest classifier on the data to see how well it can predict leak probability\n",
    "from sklearn.ensemble import RandomForestClassifier\n",
    "from sklearn.model_selection import train_test_split\n",
    "from sklearn.metrics import accuracy_score\n",
    "from sklearn.model_selection import KFold, StratifiedShuffleSplit\n",
    "\n",
    "# define the number of folds\n",
    "k = 1\n",
    "\n",
    "# split x and y\n",
    "X = detection_input.drop(columns=['leak_probability'])\n",
    "y = detection_input['leak_probability']\n",
    "\n",
    "# implement SMOTE to balance the data\n",
    "from imblearn.over_sampling import SMOTE\n",
    "sm = SMOTE(random_state=42)\n",
    "X, y = sm.fit_resample(X, y)\n",
    "\n",
    "# create a KFold object\n",
    "kf = StratifiedShuffleSplit(n_splits=k, random_state=None)\n",
    "\n",
    "# remeber best model\n",
    "best_model = None\n",
    "best_model_accuracy = 0\n",
    "\n",
    "# split the data into k folds\n",
    "for train_index, test_index in kf.split(X, y):\n",
    "    # get the training and testing data for this fold\n",
    "    X_train, X_test = X.iloc[train_index], X.iloc[test_index]\n",
    "    y_train, y_test = y.iloc[train_index], y.iloc[test_index]\n",
    "\n",
    "    # train the decision tree classifier on the training data\n",
    "    clf = RandomForestClassifier(n_estimators=100, max_depth=2, random_state=0)\n",
    "\n",
    "    # scaling the data\n",
    "    scaler = StandardScaler()\n",
    "    X_train = scaler.fit_transform(X_train)\n",
    "    X_test = scaler.transform(X_test)\n",
    "\n",
    "    # fit the model\n",
    "    clf.fit(X_train, y_train)\n",
    "\n",
    "    # make predictions on the testing data\n",
    "    y_pred = clf.predict(X_test)\n",
    "\n",
    "    # calculate the accuracy of the model\n",
    "    accuracy = accuracy_score(y_test, y_pred)\n",
    "    print('Accuracy: ', accuracy)\n",
    "\n",
    "    if accuracy > best_model_accuracy:\n",
    "        best_model = clf\n",
    "        best_model_accuracy = accuracy\n",
    "\n",
    "    # print the classification report\n",
    "    print(classification_report(y_test, y_pred))\n",
    "\n",
    "    # plot confusion matrix\n",
    "    cm = confusion_matrix(y_test, y_pred)\n",
    "    sns.heatmap(cm, annot=True)\n",
    "    plt.show()"
   ]
  },
  {
   "cell_type": "code",
   "execution_count": 13,
   "metadata": {},
   "outputs": [],
   "source": [
    "# pickle the model\n",
    "import pickle\n",
    "filename = 'random_forest_detection_model.sav'\n",
    "pickle.dump(best_model, open(filename, 'wb'))"
   ]
  }
 ],
 "metadata": {
  "kernelspec": {
   "display_name": "base",
   "language": "python",
   "name": "python3"
  },
  "language_info": {
   "codemirror_mode": {
    "name": "ipython",
    "version": 3
   },
   "file_extension": ".py",
   "mimetype": "text/x-python",
   "name": "python",
   "nbconvert_exporter": "python",
   "pygments_lexer": "ipython3",
   "version": "3.9.12"
  }
 },
 "nbformat": 4,
 "nbformat_minor": 2
}

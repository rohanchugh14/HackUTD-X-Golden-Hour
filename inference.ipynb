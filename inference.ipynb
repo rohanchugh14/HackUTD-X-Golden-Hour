{
 "cells": [
  {
   "cell_type": "code",
   "execution_count": null,
   "metadata": {},
   "outputs": [],
   "source": [
    "# load naive bayes model and predict the test data\n",
    "\n",
    "import pandas as pd\n",
    "import numpy as np\n",
    "import pickle\n",
    "\n",
    "# load the model from disk\n",
    "filename = 'finalized_model.sav'\n",
    "pickle = pickle.load(open(filename, 'rb'))\n"
   ]
  }
 ],
 "metadata": {
  "language_info": {
   "name": "python"
  }
 },
 "nbformat": 4,
 "nbformat_minor": 2
}
